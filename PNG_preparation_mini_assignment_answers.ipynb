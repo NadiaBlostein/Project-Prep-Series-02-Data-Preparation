{
 "cells": [
  {
   "cell_type": "code",
   "execution_count": null,
   "id": "3c08e03e",
   "metadata": {},
   "outputs": [],
   "source": [
    "standardized_images=[]\n",
    "for i in range(20):\n",
    "    img=resize_images_PIL_jpg[i]\n",
    "    img=(img-img.mean())/img.std()\n",
    "    standardized_images.append(img)\n",
    "standardized_images=np.array(standardized_images)"
   ]
  },
  {
   "cell_type": "code",
   "execution_count": null,
   "id": "aa59e610",
   "metadata": {},
   "outputs": [],
   "source": [
    "from skimage.exposure import histogram\n",
    "fig = plt.figure(figsize=(20, 15))\n",
    "rows = 5\n",
    "columns = 4\n",
    "for i in range(20):\n",
    "    fig.add_subplot(rows, columns, i+1)\n",
    "    img=standardized_images[i]\n",
    "    hist_0,edges_0=histogram(img[:,:,0])\n",
    "    hist_1,edges_1=histogram(img[:,:,1])\n",
    "    hist_2,edges_2=histogram(img[:,:,2])\n",
    "    plt.plot(edges_0,hist_0)\n",
    "    plt.plot(edges_1,hist_1)\n",
    "    plt.plot(edges_2,hist_2)"
   ]
  },
  {
   "cell_type": "code",
   "execution_count": null,
   "id": "032c782f",
   "metadata": {},
   "outputs": [],
   "source": [
    "fig = plt.figure(figsize=(20, 15))\n",
    "rows = 5\n",
    "columns = 4\n",
    "for i in range(20):\n",
    "    fig.add_subplot(rows, columns, i+1)\n",
    "    img=standardized_images[i]\n",
    "    plt.imshow(img)\n",
    "    plt.axis('off')\n",
    "    plt.title(img.shape)"
   ]
  }
 ],
 "metadata": {
  "kernelspec": {
   "display_name": "Python 3",
   "language": "python",
   "name": "python3"
  },
  "language_info": {
   "codemirror_mode": {
    "name": "ipython",
    "version": 3
   },
   "file_extension": ".py",
   "mimetype": "text/x-python",
   "name": "python",
   "nbconvert_exporter": "python",
   "pygments_lexer": "ipython3",
   "version": "3.8.8"
  }
 },
 "nbformat": 4,
 "nbformat_minor": 5
}
