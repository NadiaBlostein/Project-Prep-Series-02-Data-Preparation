{
 "cells": [
  {
   "cell_type": "markdown",
   "id": "445aee6f",
   "metadata": {},
   "source": [
    "**1.** Generate a scatter plot of TBV as a function of bed time, by gender."
   ]
  },
  {
   "cell_type": "code",
   "execution_count": null,
   "id": "d491bae7",
   "metadata": {},
   "outputs": [],
   "source": [
    "plt.scatter(df_final[\"PSQI_BedTime\"][df_final[\"F\"]==1],df_final[\"TBV\"][df_final[\"F\"]==1],color='turquoise')\n",
    "plt.scatter(df_final[\"PSQI_BedTime\"][df_final[\"M\"]==1],df_final[\"TBV\"][df_final[\"M\"]==1],color='coral')\n",
    "plt.ylabel(\"Total brain volume (mm3)\")\n",
    "plt.xlabel(\"Bedtime (seconds)\")\n",
    "plt.title(\"Total brain volume as a function of bed time, by gender\")\n",
    "plt.legend(['F','M'])"
   ]
  },
  {
   "cell_type": "markdown",
   "id": "e0242bec",
   "metadata": {},
   "source": [
    "**2.** Generate a violin plot of bed times in our sample for subjects over 30 years"
   ]
  },
  {
   "cell_type": "code",
   "execution_count": null,
   "id": "ded47f5c",
   "metadata": {},
   "outputs": [],
   "source": [
    "plt.violinplot(df_final['PSQI_BedTime'][df_final[\"Age\"]>30])\n",
    "plt.ylabel(\"Bedtime\")\n",
    "plt.title(\"Violin plot of bed times in our sample for subjects over 30 years\")"
   ]
  },
  {
   "cell_type": "markdown",
   "id": "19895bb2",
   "metadata": {},
   "source": [
    "**3.** Generate two smoothed and superimposed histograms of bed times in subjects that are above and below 30 years."
   ]
  },
  {
   "cell_type": "code",
   "execution_count": null,
   "id": "ac4d96bf",
   "metadata": {},
   "outputs": [],
   "source": [
    "df_final[\"over_30_yrs\"]=df_final[\"Age\"]>30\n",
    "sns.displot(df_final,x='PSQI_BedTime',hue='over_30_yrs',kind='kde',fill=True)\n",
    "plt.ylabel(\"Density\")\n",
    "plt.xlabel(\"Bed time\")\n",
    "plt.title(\"Distribution of bed times in our sample for people who are below and above 30 years\")"
   ]
  },
  {
   "cell_type": "markdown",
   "id": "8be14c7a",
   "metadata": {},
   "source": [
    "Remark: very similar bed times! We just have a lot more subjects that are under 30 years old than over 30 years old."
   ]
  },
  {
   "cell_type": "markdown",
   "id": "f238f8cf",
   "metadata": {},
   "source": [
    "**4.** Generate two superimposed histograms of the volume distributions in the left hemisphere (left striatum, thalamus and globus pallidus) and right hemisphere (right striatum, thalamus and globus pallidus)"
   ]
  },
  {
   "cell_type": "code",
   "execution_count": null,
   "id": "f60fbbd0",
   "metadata": {},
   "outputs": [],
   "source": [
    "left=list(df_final[\"Str_Left\"])+list(df_final[\"Thal_Left\"])+list(df_final[\"Gp_Left\"])\n",
    "right=list(df_final[\"Str_Right\"])+list(df_final[\"Thal_Right\"])+list(df_final[\"Gp_Right\"])\n",
    "sns.histplot(x=left,fill=True,color='orange',kde=True)\n",
    "sns.histplot(x=right,fill=True,color='turquoise',kde=True)\n",
    "\n",
    "plt.legend(['Left hemisphere','Right hemisphere'])\n",
    "plt.ylabel(\"Density\")\n",
    "plt.xlabel(\"Hemisphere-specific volumes (mm3)\")\n",
    "plt.title(\"Distribution of different structure volumes in our sample\")\n",
    "plt.show()"
   ]
  },
  {
   "cell_type": "markdown",
   "id": "449957a4",
   "metadata": {},
   "source": [
    "Remark: super symmetrical volumes!"
   ]
  }
 ],
 "metadata": {
  "kernelspec": {
   "display_name": "Python 3",
   "language": "python",
   "name": "python3"
  },
  "language_info": {
   "codemirror_mode": {
    "name": "ipython",
    "version": 3
   },
   "file_extension": ".py",
   "mimetype": "text/x-python",
   "name": "python",
   "nbconvert_exporter": "python",
   "pygments_lexer": "ipython3",
   "version": "3.8.8"
  }
 },
 "nbformat": 4,
 "nbformat_minor": 5
}
